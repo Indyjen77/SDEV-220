{
 "cells": [
  {
   "cell_type": "code",
   "execution_count": 6,
   "id": "812e9236",
   "metadata": {},
   "outputs": [],
   "source": [
    "class Solution:\n",
    "    def binarysearch (self,arr,n,k):\n",
    "        high = n-1\n",
    "        low = 0\n",
    "        def find (arr,low,high,k):\n",
    "            \n",
    "            mid = (low+high)//2\n",
    "            if low > high:\n",
    "                return -1\n",
    "            if k == arr[mid]:\n",
    "                return mid\n",
    "            if k < arr[mid]:\n",
    "                return find (arr, mid-1, k)\n",
    "            else:\n",
    "                return find(arr, mid+1, high, k)\n",
    "                \n",
    "        ans = find (arr, low, high, k)\n",
    "        return ans\n"
   ]
  },
  {
   "cell_type": "code",
   "execution_count": null,
   "id": "fedc3aa1",
   "metadata": {},
   "outputs": [],
   "source": []
  }
 ],
 "metadata": {
  "kernelspec": {
   "display_name": "Python 3 (ipykernel)",
   "language": "python",
   "name": "python3"
  },
  "language_info": {
   "codemirror_mode": {
    "name": "ipython",
    "version": 3
   },
   "file_extension": ".py",
   "mimetype": "text/x-python",
   "name": "python",
   "nbconvert_exporter": "python",
   "pygments_lexer": "ipython3",
   "version": "3.11.5"
  }
 },
 "nbformat": 4,
 "nbformat_minor": 5
}
