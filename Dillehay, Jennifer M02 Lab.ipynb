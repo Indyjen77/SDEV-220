{
 "cells": [
  {
   "cell_type": "code",
   "execution_count": 22,
   "id": "61908afb",
   "metadata": {},
   "outputs": [
    {
     "name": "stdout",
     "output_type": "stream",
     "text": [
      "Enter the student's last name or ZZZ to quit:  Dillehay\n",
      "Enter the student's first name:  Jennifer\n",
      "Enter the student's GPA:  4\n",
      "Jennifer  Dillehay has made the Dean's list!\n",
      "Enter the student's last name or ZZZ to quit:  Smith\n",
      "Enter the student's first name:  Stanley\n",
      "Enter the student's GPA:  2.1\n",
      "Sorry!  The student should study harder next time!\n",
      "Enter the student's last name or ZZZ to quit:  Potter\n",
      "Enter the student's first name:  Harry\n",
      "Enter the student's GPA:  3.25\n",
      "Harry  Potter has made the Honor Roll!\n",
      "Enter the student's last name or ZZZ to quit:  Beethoven\n",
      "Enter the student's first name:  Ludwig\n",
      "Enter the student's GPA:  3.2\n",
      "Sorry!  The student should study harder next time!\n",
      "Enter the student's last name or ZZZ to quit:  zzz\n",
      "That's all, folks!\n"
     ]
    }
   ],
   "source": [
    "#Dillehay, Jennifer\n",
    "#M02 Lab\n",
    "#This program asks for a student's full name and GPA\n",
    "#and tells the user whether they have made the Dean's list, \n",
    "#the Honor Roll, or needs to study harder next time.\n",
    "\n",
    "#Get last name:\n",
    "while True:\n",
    "    last_name = input(\"Enter the student's last name or ZZZ to quit:  \")\n",
    "    \n",
    "    #Check if user wants to quit:\n",
    "    if last_name.upper() == \"ZZZ\" :\n",
    "        break\n",
    "    \n",
    "    #Enter first name and GPA:\n",
    "    first_name = input(\"Enter the student's first name:  \")\n",
    "    \n",
    "    gpa = float(input(\"Enter the student's GPA:  \"))\n",
    "    \n",
    "    #Checks the gpa ranges and prints correct result:\n",
    "    if gpa >= 3.5:\n",
    "        print(f\"{first_name}\", \"\" ,f\"{last_name} has made the Dean's list!\")\n",
    "        \n",
    "    elif gpa >=3.25:\n",
    "        print(f\"{first_name}\", \"\",f\"{last_name} has made the Honor Roll!\")\n",
    "              \n",
    "    else:\n",
    "        print(\"Sorry!  The student should study harder next time!\")\n",
    "\n",
    "#Check to see if the break worked.\n",
    "print(\"That's all, folks!\")"
   ]
  },
  {
   "cell_type": "code",
   "execution_count": null,
   "id": "5b8ddcb5",
   "metadata": {},
   "outputs": [],
   "source": []
  },
  {
   "cell_type": "code",
   "execution_count": null,
   "id": "d44310a7",
   "metadata": {},
   "outputs": [],
   "source": []
  },
  {
   "cell_type": "code",
   "execution_count": null,
   "id": "888238cd",
   "metadata": {},
   "outputs": [],
   "source": []
  },
  {
   "cell_type": "code",
   "execution_count": null,
   "id": "48675cad",
   "metadata": {},
   "outputs": [],
   "source": []
  }
 ],
 "metadata": {
  "kernelspec": {
   "display_name": "Python 3 (ipykernel)",
   "language": "python",
   "name": "python3"
  },
  "language_info": {
   "codemirror_mode": {
    "name": "ipython",
    "version": 3
   },
   "file_extension": ".py",
   "mimetype": "text/x-python",
   "name": "python",
   "nbconvert_exporter": "python",
   "pygments_lexer": "ipython3",
   "version": "3.11.5"
  }
 },
 "nbformat": 4,
 "nbformat_minor": 5
}
