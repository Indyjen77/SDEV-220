{
 "cells": [
  {
   "cell_type": "code",
   "execution_count": 1,
   "id": "8fed4937",
   "metadata": {},
   "outputs": [
    {
     "data": {
      "text/plain": [
       "['mozzarella', 'cinderella', 'salmonella']"
      ]
     },
     "execution_count": 1,
     "metadata": {},
     "output_type": "execute_result"
    }
   ],
   "source": [
    "things = [\"mozzarella\" , \"cinderella\" , \"salmonella\"]\n",
    "things"
   ]
  },
  {
   "cell_type": "code",
   "execution_count": 2,
   "id": "2c9ec99d",
   "metadata": {},
   "outputs": [
    {
     "data": {
      "text/plain": [
       "['mozzarella', 'Cinderella', 'salmonella']"
      ]
     },
     "execution_count": 2,
     "metadata": {},
     "output_type": "execute_result"
    }
   ],
   "source": [
    "things[1] = \"Cinderella\"\n",
    "things"
   ]
  },
  {
   "cell_type": "code",
   "execution_count": 3,
   "id": "1c1c275c",
   "metadata": {},
   "outputs": [
    {
     "data": {
      "text/plain": [
       "['MOZZARELLA', 'Cinderella', 'salmonella']"
      ]
     },
     "execution_count": 3,
     "metadata": {},
     "output_type": "execute_result"
    }
   ],
   "source": [
    "things[0] = \"MOZZARELLA\"\n",
    "things"
   ]
  },
  {
   "cell_type": "code",
   "execution_count": 4,
   "id": "c069d334",
   "metadata": {},
   "outputs": [
    {
     "data": {
      "text/plain": [
       "['MOZZARELLA', 'Cinderella']"
      ]
     },
     "execution_count": 4,
     "metadata": {},
     "output_type": "execute_result"
    }
   ],
   "source": [
    "del things[-1]\n",
    "things"
   ]
  },
  {
   "cell_type": "code",
   "execution_count": null,
   "id": "224804d4",
   "metadata": {},
   "outputs": [],
   "source": []
  }
 ],
 "metadata": {
  "kernelspec": {
   "display_name": "Python 3 (ipykernel)",
   "language": "python",
   "name": "python3"
  },
  "language_info": {
   "codemirror_mode": {
    "name": "ipython",
    "version": 3
   },
   "file_extension": ".py",
   "mimetype": "text/x-python",
   "name": "python",
   "nbconvert_exporter": "python",
   "pygments_lexer": "ipython3",
   "version": "3.11.5"
  }
 },
 "nbformat": 4,
 "nbformat_minor": 5
}
