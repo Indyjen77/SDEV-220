{
 "cells": [
  {
   "cell_type": "code",
   "execution_count": 12,
   "id": "0e07af11",
   "metadata": {},
   "outputs": [
    {
     "name": "stdout",
     "output_type": "stream",
     "text": [
      "Enter the year: 2014\n",
      "Enter the make: Honda\n",
      "Enter the model: CRV\n",
      "Enter how many doors? 4\n",
      "Does the car have a solid or a sun roof? Sun Roof\n",
      "\n",
      "Vehicle type:  car\n",
      "Year:  2014\n",
      "Make:  Honda\n",
      "Model:  CRV\n",
      "Doors:  4\n",
      "Roof:  Sun Roof\n"
     ]
    }
   ],
   "source": [
    "#Dillehay, Jennifer\n",
    "#M03 Lab\n",
    "#This program creates a vehicle class and an automobile class that inherits from the vehicle class.\n",
    "#The program asks for user input and prints the car's data in an easy-to-read format\n",
    "\n",
    "#Create Vehicle class\n",
    "class Vehicle():\n",
    "    def __init__(self):\n",
    "        self.vehicle_type = \"\"\n",
    "        \n",
    "    def set_vehicle_type(self, vehicle_type):\n",
    "        self.vehicle_type = vehicle_type\n",
    "\n",
    "#Create Automobile class and link to the vehicle class\n",
    "class Automobile(Vehicle):\n",
    "    def __init__(self, year, make, model, doors, roof):\n",
    "        self.year = year\n",
    "        self.make = make\n",
    "        self.model = model\n",
    "        self.doors = doors\n",
    "        self.roof = roof\n",
    "\n",
    "#Get our inputs        \n",
    "def __main__():\n",
    "    car = Automobile(\"\", \"\", \"\", \"\", \"\")\n",
    "    car.set_vehicle_type(\"car\")\n",
    "    car.year = input(\"Enter the year: \")\n",
    "    car.make = input(\"Enter the make: \")\n",
    "    car.model = input(\"Enter the model: \")\n",
    "    car.doors = input(\"Enter how many doors:  \")\n",
    "    car.roof = input(\"Does the vehicle have a sun roof or a solid roof: \")\n",
    "    \n",
    "    #Make the output pretty\n",
    "    print(\"\\nVehicle type: \", car.vehicle_type)\n",
    "    print(\"Year: \" , car.year)\n",
    "    print(\"Make:  \", car.make)\n",
    "    print(\"Model: \", car.model)\n",
    "    print(\"Doors: \", car.doors)\n",
    "    print(\"Roof:  \", car.roof)\n",
    "    \n",
    "if __name__ == \"__main__\":\n",
    "    main()\n",
    "\n",
    "        \n",
    "        "
   ]
  },
  {
   "cell_type": "code",
   "execution_count": null,
   "id": "0010c948",
   "metadata": {},
   "outputs": [],
   "source": []
  },
  {
   "cell_type": "code",
   "execution_count": null,
   "id": "26b0e63a",
   "metadata": {},
   "outputs": [],
   "source": []
  },
  {
   "cell_type": "code",
   "execution_count": null,
   "id": "e18a1e1e",
   "metadata": {},
   "outputs": [],
   "source": []
  }
 ],
 "metadata": {
  "kernelspec": {
   "display_name": "Python 3 (ipykernel)",
   "language": "python",
   "name": "python3"
  },
  "language_info": {
   "codemirror_mode": {
    "name": "ipython",
    "version": 3
   },
   "file_extension": ".py",
   "mimetype": "text/x-python",
   "name": "python",
   "nbconvert_exporter": "python",
   "pygments_lexer": "ipython3",
   "version": "3.11.5"
  }
 },
 "nbformat": 4,
 "nbformat_minor": 5
}
